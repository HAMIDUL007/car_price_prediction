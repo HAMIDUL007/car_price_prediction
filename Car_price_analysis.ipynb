{
 "cells": [
  {
   "cell_type": "code",
   "execution_count": null,
   "id": "c5068119-b159-4c55-8d73-9d1c91ff7803",
   "metadata": {},
   "outputs": [],
   "source": [
    "## Import library\n",
    "import pandas as pd\n",
    "import numpy as np\n",
    "import matplotlib.pyplot as plt\n",
    "import seaborn as sns\n",
    "import warnings\n",
    "warnings.filterwarnings('ignore')\n",
    "from sklearn.preprocessing import LabelEncoder\n",
    "from sklearn.model_selection import train_test_split\n",
    "from sklearn.linear_model import LinearRegression\n",
    "from sklearn.metrics import mean_squared_error,r2_score\n",
    "import statsmodels.api as sm"
   ]
  },
  {
   "cell_type": "raw",
   "id": "c06babf8-8268-4597-a8c9-ab872d78d126",
   "metadata": {},
   "source": []
  },
  {
   "cell_type": "code",
   "execution_count": null,
   "id": "d988a439-a980-4965-8a89-79048f0a728d",
   "metadata": {},
   "outputs": [],
   "source": [
    "## Import dataset\n",
    "df=pd.read_csv(\"C:/Users/Administrator/Desktop/ML_Model/CarPrice_Assignment.csv\")\n",
    "df.head(5)"
   ]
  },
  {
   "cell_type": "code",
   "execution_count": null,
   "id": "cb77129d-d3b6-46a4-a530-76e8ed812899",
   "metadata": {},
   "outputs": [],
   "source": [
    "## Inspect dataset\n",
    "df_copy = df.copy()\n",
    "print(df_copy.shape)\n",
    "print(df_copy.columns)\n",
    "print(df_copy.info())"
   ]
  },
  {
   "cell_type": "code",
   "execution_count": null,
   "id": "6f3b255f-96c6-4590-a566-47ef87e6f83e",
   "metadata": {},
   "outputs": [],
   "source": [
    "############################# Prepare the dataset for Model Fit ##################################"
   ]
  },
  {
   "cell_type": "code",
   "execution_count": null,
   "id": "2ffafba7-c6b8-423d-b35a-d69c803734c6",
   "metadata": {},
   "outputs": [],
   "source": [
    "### Checking null values\n",
    "df_copy.isnull().sum()\n",
    "# Check Duplication\n",
    "df_copy.duplicated().sum()\n",
    "# Check the number of unique values of each column\n",
    "df_copy.nunique()"
   ]
  },
  {
   "cell_type": "code",
   "execution_count": null,
   "id": "4474bfa0-453d-4dc9-b44c-d0ae09fb2fdb",
   "metadata": {},
   "outputs": [],
   "source": [
    "### seperate the categorical and numerical variables\n",
    "# Separate numerical columns\n",
    "numerical_df = df.select_dtypes(include=['int64', 'float64'])\n",
    "\n",
    "# Separate categorical columns\n",
    "categorical_df = df.select_dtypes(include=['object'])\n",
    "\n",
    "# Print or inspect the separated DataFrames\n",
    "print(\"Numerical Variables:\")\n",
    "print(numerical_df.head())\n",
    "\n",
    "print(\"\\nCategorical Variables:\")\n",
    "print(categorical_df.head())"
   ]
  },
  {
   "cell_type": "code",
   "execution_count": null,
   "id": "a8073122-9175-433f-b6dc-d2f0b8b6184f",
   "metadata": {},
   "outputs": [],
   "source": [
    "### Inspect_categorical variables\n",
    "# Display unique values for each categorical column\n",
    "for col in categorical_df:\n",
    "    unique_values = categorical_df[col].unique()\n",
    "    print(f\"Unique values in '{col}': {unique_values}\")"
   ]
  },
  {
   "cell_type": "code",
   "execution_count": null,
   "id": "b871ef08-6ebd-4836-a6bb-423b1d94abc9",
   "metadata": {},
   "outputs": [],
   "source": [
    "# Extract brand and model from CarName\n",
    "categorical_df['brand'] = categorical_df['CarName'].apply(lambda x: x.split(' ')[0])\n",
    "categorical_df['model'] = categorical_df['CarName'].apply(lambda x: ' '.join(x.split(' ')[1:]))"
   ]
  },
  {
   "cell_type": "code",
   "execution_count": null,
   "id": "e6d8b2df-e722-4885-8601-c8fb2ce5cd39",
   "metadata": {},
   "outputs": [],
   "source": [
    "categorical_df.head(10)"
   ]
  },
  {
   "cell_type": "code",
   "execution_count": null,
   "id": "2a0f350b-8058-4219-9a93-8b421b39c149",
   "metadata": {},
   "outputs": [],
   "source": [
    "## Drop CarName and model\n",
    "categorical_df.drop(columns=['CarName','model'], inplace= True)\n",
    "categorical_df.head(10)"
   ]
  },
  {
   "cell_type": "code",
   "execution_count": null,
   "id": "7c84516c-e935-4338-9e34-5e9ac2183bf6",
   "metadata": {},
   "outputs": [],
   "source": [
    "### presenting categorical variables in graph\n",
    "\n",
    "# Create subplots\n",
    "fig, axes = plt.subplots(nrows=4, ncols=3, figsize=(12, 9))\n",
    "axes = axes.ravel()  # Flatten the 2D array of axes\n",
    "\n",
    "\n",
    "# Loop through each categorical column\n",
    "for i, column in enumerate(categorical_df):\n",
    "    sns.countplot(x=categorical_df[column], data=categorical_df, palette='bright', ax=axes[i], saturation=0.95)\n",
    "    for container in axes[i].containers:\n",
    "        axes[i].bar_label(container, color='black', size=10)\n",
    "    axes[i].set_title(f'Count Plot of {column.capitalize()}')\n",
    "    axes[i].set_xlabel(column.capitalize())\n",
    "    axes[i].set_ylabel('Count')\n",
    "\n",
    "# Adjust layout and show plots\n",
    "plt.tight_layout()\n",
    "plt.show()\n"
   ]
  },
  {
   "cell_type": "code",
   "execution_count": null,
   "id": "7951edcd-85fb-47b2-bca3-c9471f7c973e",
   "metadata": {},
   "outputs": [],
   "source": [
    "# Encoding categorical variables\n",
    "label_encoder = LabelEncoder()\n",
    "for column in categorical_df:\n",
    "    categorical_df[column] = label_encoder.fit_transform(categorical_df[column])"
   ]
  },
  {
   "cell_type": "code",
   "execution_count": null,
   "id": "80a93640-890e-477f-9d9e-989b8a6a4661",
   "metadata": {},
   "outputs": [],
   "source": [
    "##### inspect numerical variables\n",
    "numerical_df.describe()"
   ]
  },
  {
   "cell_type": "code",
   "execution_count": null,
   "id": "ca90aebd-00d8-4ffd-b595-5896cafd2aba",
   "metadata": {},
   "outputs": [],
   "source": [
    "## Drop car_ID column\n",
    "numerical_df.drop(columns=['car_ID','symboling'], inplace = True)\n",
    "numerical_df.head(10)"
   ]
  },
  {
   "cell_type": "code",
   "execution_count": null,
   "id": "4f0f17f1-bba9-436e-b15f-0459a078dd7f",
   "metadata": {},
   "outputs": [],
   "source": [
    "# Distribution of Numerical Features\n",
    "numerical_features = ['wheelbase', 'carlength', 'carwidth', 'carheight', 'curbweight',\n",
    "                      'enginesize', 'boreratio', 'stroke', 'compressionratio', 'horsepower',\n",
    "                      'peakrpm', 'citympg', 'highwaympg', 'price']\n",
    "\n",
    "plt.figure(figsize=(12, 8))\n",
    "for feature in numerical_features:\n",
    "    plt.subplot(3, 5, numerical_features.index(feature)+1)\n",
    "    sns.histplot(data=numerical_df[feature], bins=20, kde=True)\n",
    "    plt.title(feature)\n",
    "plt.tight_layout()\n",
    "plt.show()"
   ]
  },
  {
   "cell_type": "code",
   "execution_count": null,
   "id": "f47e240e-56e6-4229-92f5-ca607a57a49b",
   "metadata": {},
   "outputs": [],
   "source": [
    "### Bivariate analysis\n",
    "correlation_matrix = numerical_df.corr()\n",
    "plt.figure(figsize=(10, 8))\n",
    "sns.heatmap(correlation_matrix, annot=True, cmap='coolwarm', linewidths=0.5)\n",
    "plt.title('Correlation Heatmap of Numerical Variables')\n",
    "plt.show()"
   ]
  },
  {
   "cell_type": "code",
   "execution_count": null,
   "id": "3faf38ac-7d34-4545-9d55-54072680c945",
   "metadata": {},
   "outputs": [],
   "source": [
    "##### Combining Numerical dataset and Categorical dataset\n",
    "combined_df = pd.concat([ categorical_df , numerical_df], axis=1)"
   ]
  },
  {
   "cell_type": "code",
   "execution_count": null,
   "id": "5049d669-e6e5-48de-91a9-8b7ea0140e56",
   "metadata": {},
   "outputs": [],
   "source": [
    "# Splitting the dataset\n",
    "X=combined_df.drop(columns=['price'])\n",
    "y=combined_df.price"
   ]
  },
  {
   "cell_type": "code",
   "execution_count": null,
   "id": "342814e9-5032-49c4-a0f3-479eb5895aeb",
   "metadata": {},
   "outputs": [],
   "source": [
    "combined_df.info()"
   ]
  },
  {
   "cell_type": "code",
   "execution_count": null,
   "id": "571c3b34-c6e0-41a8-953b-c6cb96a70b4b",
   "metadata": {},
   "outputs": [],
   "source": [
    "########################### Model fit #####################################"
   ]
  },
  {
   "cell_type": "code",
   "execution_count": null,
   "id": "062d3b62-5405-4ddb-9978-6a87ca7d761c",
   "metadata": {},
   "outputs": [],
   "source": [
    "### Train_test_Spilt\n",
    "X_train, X_test, y_train, y_test = train_test_split(X, y, test_size=0.2, random_state=42)"
   ]
  },
  {
   "cell_type": "code",
   "execution_count": null,
   "id": "938d9836-29c9-4aa3-8d68-50c2ecf66713",
   "metadata": {},
   "outputs": [],
   "source": [
    "# Model training\n",
    "model_1 = LinearRegression()\n",
    "model_1.fit(X_train, y_train)\n",
    "\n",
    "# Predictions\n",
    "y_pred = model_1.predict(X_test)\n",
    "y_pred"
   ]
  },
  {
   "cell_type": "code",
   "execution_count": null,
   "id": "125e4e98-7035-4ea9-8b18-35a10d5ebfbe",
   "metadata": {},
   "outputs": [],
   "source": [
    "# Assuming you have trained your model and have predictions for train and test sets\n",
    "y_train_pred = model_1.predict(X_train)  # Predictions on training set\n",
    "y_test_pred = model_1.predict(X_test)    # Predictions on test set\n",
    "\n",
    "# Calculate RMSE for both train and test sets\n",
    "train_rmse = np.sqrt(mean_squared_error(y_train, y_train_pred))\n",
    "test_rmse = np.sqrt(mean_squared_error(y_test, y_test_pred))\n",
    "\n",
    "# Calculate R-squared for both train and test sets\n",
    "train_r2 = r2_score(y_train, y_train_pred)\n",
    "test_r2 = r2_score(y_test, y_test_pred)\n",
    "\n",
    "print(f\"Train RMSE: {train_rmse}\")\n",
    "print(f\"Test RMSE: {test_rmse}\")\n",
    "print(f\"Train R-squared: {train_r2}\")\n",
    "print(f\"Test R-squared: {test_r2}\")"
   ]
  },
  {
   "cell_type": "code",
   "execution_count": null,
   "id": "58e76992-7acc-488e-8217-382bf36f1c53",
   "metadata": {},
   "outputs": [],
   "source": [
    "#####################     Model Diagnostics and Assumption Tests      ##############"
   ]
  },
  {
   "cell_type": "code",
   "execution_count": null,
   "id": "3164e937-37e3-440d-8f6a-d8c95b9226f3",
   "metadata": {},
   "outputs": [],
   "source": [
    "#### a.Check Linearity Assumption\n",
    "# Plot Residuals vs Fitted Values to check for linearity. The residuals should scatter randomly around zero.\n",
    "\n",
    "# Residuals vs Fitted Values Plot\n",
    "residuals =model_2.resid\n",
    "fitted_values = model_2.fittedvalues\n",
    "\n",
    "plt.scatter(fitted_values, residuals)\n",
    "plt.axhline(y=0, color='red', linestyle='--')\n",
    "plt.xlabel('Fitted Values')\n",
    "plt.ylabel('Residuals')\n",
    "plt.title('Residuals vs Fitted Values')\n",
    "plt.show()\n",
    "\n",
    "## Interpretation: If the residuals show no clear pattern and are evenly distributed around zero, the linearity assumption holds"
   ]
  },
  {
   "cell_type": "code",
   "execution_count": null,
   "id": "47488a59-2cc9-465d-a8e7-e317ded784b2",
   "metadata": {},
   "outputs": [],
   "source": [
    "## b. Check Multicollinearity (Variance Inflation Factor - VIF)\n",
    "from statsmodels.stats.outliers_influence import variance_inflation_factor\n",
    "\n",
    "# Calculate VIF for each feature\n",
    "vif_data = pd.DataFrame()\n",
    "vif_data[\"Feature\"] = X_intercept.columns\n",
    "vif_data[\"VIF\"] = [variance_inflation_factor(X_intercept.values, i) for i in range(X.shape[1])]\n",
    "\n",
    "# Display VIF values\n",
    "print(vif_data)\n",
    "\n",
    "#Interpretation: VIF > 10 indicates high multicollinearity, which can lead to unreliable coefficient estimates."
   ]
  },
  {
   "cell_type": "code",
   "execution_count": null,
   "id": "88fe8fd3-c4a3-46b0-8847-f2eddebbca5c",
   "metadata": {},
   "outputs": [],
   "source": [
    "## c. Check for Normality of Residuals\n",
    "# Q-Q plot\n",
    "sm.qqplot(residuals, line='s')\n",
    "plt.show()\n",
    "\n",
    "\n",
    "\n",
    "## Additionally, you can use the Shapiro-Wilk test for normality:\n",
    "\n",
    "\n",
    "from scipy.stats import shapiro\n",
    "\n",
    "# Shapiro-Wilk test\n",
    "shapiro_test = shapiro(residuals)\n",
    "\n",
    "# Print p-value\n",
    "print('Shapiro-Wilk test p-value:', shapiro_test[1])\n",
    "\n",
    "### Interpretation: A p-value > 0.05 suggests that the residuals are normally distributed"
   ]
  },
  {
   "cell_type": "code",
   "execution_count": null,
   "id": "1f7280cf-0a0b-472a-99b8-ac9c8f211285",
   "metadata": {},
   "outputs": [],
   "source": [
    "###### d. Check for Autocorrelation of Residuals\n",
    "\n",
    "# Durbin-Watson test\n",
    "durbin_watson_stat = sm.stats.stattools.durbin_watson(residuals)\n",
    "print('Durbin-Watson Statistic:', durbin_watson_stat)\n",
    "## Interpretation: A Durbin-Watson statistic close to 2 indicates no autocorrelation in residuals."
   ]
  }
 ],
 "metadata": {
  "kernelspec": {
   "display_name": "Python 3 (ipykernel)",
   "language": "python",
   "name": "python3"
  },
  "language_info": {
   "codemirror_mode": {
    "name": "ipython",
    "version": 3
   },
   "file_extension": ".py",
   "mimetype": "text/x-python",
   "name": "python",
   "nbconvert_exporter": "python",
   "pygments_lexer": "ipython3",
   "version": "3.12.4"
  }
 },
 "nbformat": 4,
 "nbformat_minor": 5
}
